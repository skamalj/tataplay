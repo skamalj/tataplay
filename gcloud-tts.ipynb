{
 "cells": [
  {
   "cell_type": "code",
   "execution_count": 4,
   "metadata": {},
   "outputs": [],
   "source": [
    "import json\n",
    "with open(\"translated_transcription.json\", \"r\", encoding=\"utf-8\") as f:\n",
    "    data = json.load(f)"
   ]
  },
  {
   "cell_type": "code",
   "execution_count": 5,
   "metadata": {},
   "outputs": [],
   "source": [
    "dialog = data[\"segments\"][3]\n",
    "dialog_text = dialog[\"translated_text\"]\n",
    "original_duration = dialog[\"end\"] - dialog[\"start\"]  # Duration in seconds"
   ]
  },
  {
   "cell_type": "code",
   "execution_count": 6,
   "metadata": {},
   "outputs": [],
   "source": [
    "words_per_second = len(dialog_text.split()) / original_duration\n",
    "base_words_per_second = 3  # Adjust based on typical Google TTS speed\n",
    "speaking_rate = words_per_second / base_words_per_second"
   ]
  },
  {
   "cell_type": "code",
   "execution_count": 14,
   "metadata": {},
   "outputs": [],
   "source": [
    "dialog_text = \"\"\"\n",
    "<speak>\n",
    "  <p>\n",
    "    <prosody rate=\"medium\" pitch=\"medium\">Gopal Ji?</prosody>\n",
    "  </p>\n",
    "  <p>\n",
    "    <prosody rate=\"medium\" pitch=\"medium\">\n",
    "      <break time=\"500ms\"/> Today, what were you teaching in history class?\n",
    "    </prosody>\n",
    "  </p>\n",
    "  <p>\n",
    "    <prosody rate=\"medium\" pitch=\"medium\">\n",
    "      <break time=\"500ms\"/> You were saying that Tata Sky has now become Tata Play.\n",
    "    </prosody>\n",
    "  </p>\n",
    "</speak>\n",
    "\"\"\""
   ]
  },
  {
   "cell_type": "code",
   "execution_count": 15,
   "metadata": {},
   "outputs": [
    {
     "name": "stdout",
     "output_type": "stream",
     "text": [
      "Generated speech saved as output_ssml.wav\n"
     ]
    }
   ],
   "source": [
    "from google.cloud import texttospeech\n",
    "\n",
    "def synthesize_speech(text, language_code=\"hi-IN\", output_file=\"output_ssml.wav\"):\n",
    "    client = texttospeech.TextToSpeechClient()\n",
    "    \n",
    "    synthesis_input = texttospeech.SynthesisInput(ssml=text)\n",
    "    voice = texttospeech.VoiceSelectionParams(\n",
    "        language_code=language_code,\n",
    "        ssml_gender=texttospeech.SsmlVoiceGender.FEMALE\n",
    "    )\n",
    "    \n",
    "    audio_config = texttospeech.AudioConfig(\n",
    "        audio_encoding=texttospeech.AudioEncoding.LINEAR16,\n",
    "        speaking_rate=speaking_rate\n",
    "    )\n",
    "    \n",
    "    response = client.synthesize_speech(\n",
    "        input=synthesis_input,\n",
    "        voice=voice,\n",
    "        audio_config=audio_config\n",
    "    )\n",
    "    \n",
    "    with open(output_file, \"wb\") as out:\n",
    "        out.write(response.audio_content)\n",
    "    \n",
    "    print(f\"Generated speech saved as {output_file}\")\n",
    "\n",
    "synthesize_speech(dialog_text, \"hi-IN\")\n"
   ]
  }
 ],
 "metadata": {
  "kernelspec": {
   "display_name": "googlecloud",
   "language": "python",
   "name": "python3"
  },
  "language_info": {
   "codemirror_mode": {
    "name": "ipython",
    "version": 3
   },
   "file_extension": ".py",
   "mimetype": "text/x-python",
   "name": "python",
   "nbconvert_exporter": "python",
   "pygments_lexer": "ipython3",
   "version": "3.11.11"
  }
 },
 "nbformat": 4,
 "nbformat_minor": 2
}
