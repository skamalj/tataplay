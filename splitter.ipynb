{
 "cells": [
  {
   "cell_type": "code",
   "execution_count": 1,
   "metadata": {},
   "outputs": [],
   "source": [
    "import librosa\n",
    "import soundfile as sf\n",
    "\n",
    "def extract_audio_segment(input_file, output_file, start_time, end_time):\n",
    "    \"\"\"\n",
    "    Extracts a segment from an audio file and saves it to a new file.\n",
    "\n",
    "    :param input_file: Path to the input audio file.\n",
    "    :param output_file: Path to save the extracted segment.\n",
    "    :param start_time: Start time in seconds.\n",
    "    :param end_time: End time in seconds.\n",
    "    \"\"\"\n",
    "    # Load audio\n",
    "    y, sr = librosa.load(input_file, sr=None)\n",
    "\n",
    "    # Convert time to samples\n",
    "    start_sample = int(start_time * sr)\n",
    "    end_sample = int(end_time * sr)\n",
    "\n",
    "    # Extract segment\n",
    "    segment = y[start_sample:end_sample]\n",
    "\n",
    "    # Save to new file\n",
    "    sf.write(output_file, segment, sr)\n",
    "    print(f\"Segment saved: {output_file} (Start: {start_time}s, End: {end_time}s)\")\n",
    "\n",
    "\n"
   ]
  },
  {
   "cell_type": "code",
   "execution_count": 3,
   "metadata": {},
   "outputs": [
    {
     "name": "stdout",
     "output_type": "stream",
     "text": [
      "Segment saved: female.mp3 (Start: 0.0s, End: 9.8s)\n"
     ]
    }
   ],
   "source": [
    "# Example Usage\n",
    "input_audio = \"tataplay.mp3\"\n",
    "output_audio = \"female.mp3\"\n",
    "extract_audio_segment(input_audio, output_audio, start_time=0.0, end_time=9.8)"
   ]
  }
 ],
 "metadata": {
  "kernelspec": {
   "display_name": "openvoice",
   "language": "python",
   "name": "python3"
  },
  "language_info": {
   "codemirror_mode": {
    "name": "ipython",
    "version": 3
   },
   "file_extension": ".py",
   "mimetype": "text/x-python",
   "name": "python",
   "nbconvert_exporter": "python",
   "pygments_lexer": "ipython3",
   "version": "3.9.21"
  }
 },
 "nbformat": 4,
 "nbformat_minor": 2
}
